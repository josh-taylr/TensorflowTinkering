{
 "cells": [
  {
   "cell_type": "markdown",
   "metadata": {},
   "source": [
    "Here I have built a multiclass classifer."
   ]
  },
  {
   "cell_type": "code",
   "execution_count": 1,
   "metadata": {},
   "outputs": [],
   "source": [
    "from tensorflow.keras.datasets import reuters\n",
    "\n",
    "(train_data, train_labels), (test_data, test_labels) = reuters.load_data(num_words=10000)"
   ]
  },
  {
   "cell_type": "markdown",
   "metadata": {},
   "source": [
    "There are 8982 articles for training and 2246 articles for testing. Articles are variable length lists of integers representing indexes in the word dictionary. As with the binary classifier, the lists of integers aren't suitable to pass into the model so need reworked into a different format but this time the labels also need to be reworked."
   ]
  },
  {
   "cell_type": "code",
   "execution_count": 2,
   "metadata": {},
   "outputs": [],
   "source": [
    "import numpy as np\n",
    "\n",
    "def vectorise_sequences(sequences, dimension=10000):\n",
    "    results = np.zeros((len(sequences), dimension))\n",
    "    for i, sequence in enumerate(sequences):\n",
    "        results[i, sequence] = 1\n",
    "    return results\n",
    "\n",
    "x_train = vectorise_sequences(train_data)\n",
    "x_test = vectorise_sequences(test_data)\n",
    "\n",
    "def to_one_hot(labels, dimension=46):\n",
    "    results = np.zeros((len(labels), dimension))\n",
    "    for i, label in enumerate(labels):\n",
    "        results[i, label] = 1\n",
    "    return results\n",
    "\n",
    "y_train = to_one_hot(train_labels)\n",
    "\n",
    "# The Keras library offers a built-in way to create catergorical data\n",
    "from tensorflow.keras.utils import to_categorical\n",
    "\n",
    "y_test = to_categorical(test_labels)"
   ]
  },
  {
   "cell_type": "code",
   "execution_count": 3,
   "metadata": {},
   "outputs": [
    {
     "name": "stdout",
     "output_type": "stream",
     "text": [
      "WARNING:tensorflow:From /usr/local/lib/python3.5/dist-packages/tensorflow/python/ops/resource_variable_ops.py:435: colocate_with (from tensorflow.python.framework.ops) is deprecated and will be removed in a future version.\n",
      "Instructions for updating:\n",
      "Colocations handled automatically by placer.\n",
      "_________________________________________________________________\n",
      "Layer (type)                 Output Shape              Param #   \n",
      "=================================================================\n",
      "dense (Dense)                (None, 64)                640064    \n",
      "_________________________________________________________________\n",
      "dense_1 (Dense)              (None, 64)                4160      \n",
      "_________________________________________________________________\n",
      "dense_2 (Dense)              (None, 46)                2990      \n",
      "=================================================================\n",
      "Total params: 647,214\n",
      "Trainable params: 647,214\n",
      "Non-trainable params: 0\n",
      "_________________________________________________________________\n"
     ]
    }
   ],
   "source": [
    "from tensorflow.keras.models import Sequential\n",
    "from tensorflow.keras.layers import Dense\n",
    "\n",
    "model = Sequential([\n",
    "    Dense(64, activation='relu', input_shape=(10000,)),\n",
    "    Dense(64, activation='relu'),\n",
    "    Dense(46, activation='softmax')\n",
    "])\n",
    "\n",
    "model.compile(optimizer='rmsprop',\n",
    "             loss='categorical_crossentropy',\n",
    "             metrics=['accuracy'])\n",
    "\n",
    "model.summary()"
   ]
  },
  {
   "cell_type": "code",
   "execution_count": 4,
   "metadata": {
    "scrolled": true
   },
   "outputs": [
    {
     "name": "stdout",
     "output_type": "stream",
     "text": [
      "Train on 7967 samples, validate on 1015 samples\n",
      "WARNING:tensorflow:From /usr/local/lib/python3.5/dist-packages/tensorflow/python/ops/math_ops.py:3066: to_int32 (from tensorflow.python.ops.math_ops) is deprecated and will be removed in a future version.\n",
      "Instructions for updating:\n",
      "Use tf.cast instead.\n",
      "Epoch 1/20\n",
      "7967/7967 [==============================] - 1s 111us/sample - loss: 2.5641 - acc: 0.5023 - val_loss: 1.7032 - val_acc: 0.6897\n",
      "Epoch 2/20\n",
      "7967/7967 [==============================] - 1s 81us/sample - loss: 1.3715 - acc: 0.7171 - val_loss: 1.3440 - val_acc: 0.7281\n",
      "Epoch 3/20\n",
      "7967/7967 [==============================] - 1s 80us/sample - loss: 1.0153 - acc: 0.7869 - val_loss: 1.1973 - val_acc: 0.7448\n",
      "Epoch 4/20\n",
      "7967/7967 [==============================] - 1s 80us/sample - loss: 0.7924 - acc: 0.8308 - val_loss: 1.1118 - val_acc: 0.7616\n",
      "Epoch 5/20\n",
      "7967/7967 [==============================] - 1s 80us/sample - loss: 0.6267 - acc: 0.8654 - val_loss: 1.0648 - val_acc: 0.7724\n",
      "Epoch 6/20\n",
      "7967/7967 [==============================] - 1s 82us/sample - loss: 0.4986 - acc: 0.8952 - val_loss: 1.0316 - val_acc: 0.7872\n",
      "Epoch 7/20\n",
      "7967/7967 [==============================] - 1s 87us/sample - loss: 0.3969 - acc: 0.9180 - val_loss: 0.9925 - val_acc: 0.7970\n",
      "Epoch 8/20\n",
      "7967/7967 [==============================] - 1s 104us/sample - loss: 0.3253 - acc: 0.9326 - val_loss: 0.9901 - val_acc: 0.7980\n",
      "Epoch 9/20\n",
      "7967/7967 [==============================] - 1s 88us/sample - loss: 0.2677 - acc: 0.9428 - val_loss: 0.9868 - val_acc: 0.8049\n",
      "Epoch 10/20\n",
      "7967/7967 [==============================] - 1s 85us/sample - loss: 0.2236 - acc: 0.9494 - val_loss: 1.0755 - val_acc: 0.7744\n",
      "Epoch 11/20\n",
      "7967/7967 [==============================] - 1s 86us/sample - loss: 0.1944 - acc: 0.9518 - val_loss: 1.1612 - val_acc: 0.7557\n",
      "Epoch 12/20\n",
      "7967/7967 [==============================] - 1s 87us/sample - loss: 0.1748 - acc: 0.9551 - val_loss: 1.1264 - val_acc: 0.7842\n",
      "Epoch 13/20\n",
      "7967/7967 [==============================] - 1s 89us/sample - loss: 0.1589 - acc: 0.9558 - val_loss: 1.0413 - val_acc: 0.7931\n",
      "Epoch 14/20\n",
      "7967/7967 [==============================] - 1s 89us/sample - loss: 0.1435 - acc: 0.9581 - val_loss: 1.1244 - val_acc: 0.7813\n",
      "Epoch 15/20\n",
      "7967/7967 [==============================] - 1s 89us/sample - loss: 0.1347 - acc: 0.9569 - val_loss: 1.1166 - val_acc: 0.7901\n",
      "Epoch 16/20\n",
      "7967/7967 [==============================] - 1s 82us/sample - loss: 0.1291 - acc: 0.9581 - val_loss: 1.1453 - val_acc: 0.7892\n",
      "Epoch 17/20\n",
      "7967/7967 [==============================] - 1s 87us/sample - loss: 0.1181 - acc: 0.9608 - val_loss: 1.1440 - val_acc: 0.7842\n",
      "Epoch 18/20\n",
      "7967/7967 [==============================] - 1s 88us/sample - loss: 0.1168 - acc: 0.9563 - val_loss: 1.1492 - val_acc: 0.7892\n",
      "Epoch 19/20\n",
      "7967/7967 [==============================] - 1s 86us/sample - loss: 0.1121 - acc: 0.9598 - val_loss: 1.1803 - val_acc: 0.7833\n",
      "Epoch 20/20\n",
      "7967/7967 [==============================] - 1s 85us/sample - loss: 0.1098 - acc: 0.9598 - val_loss: 1.2206 - val_acc: 0.7803\n"
     ]
    }
   ],
   "source": [
    "history = model.fit(x_train,\n",
    "                   y_train,\n",
    "                   epochs=20,\n",
    "                   batch_size=512,\n",
    "                   validation_split=0.113)"
   ]
  }
 ],
 "metadata": {
  "kernelspec": {
   "display_name": "Python 3",
   "language": "python",
   "name": "python3"
  },
  "language_info": {
   "codemirror_mode": {
    "name": "ipython",
    "version": 3
   },
   "file_extension": ".py",
   "mimetype": "text/x-python",
   "name": "python",
   "nbconvert_exporter": "python",
   "pygments_lexer": "ipython3",
   "version": "3.5.2"
  }
 },
 "nbformat": 4,
 "nbformat_minor": 2
}
