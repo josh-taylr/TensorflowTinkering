{
 "cells": [
  {
   "cell_type": "markdown",
   "metadata": {},
   "source": [
    "Here I have built a multiclass classifer."
   ]
  },
  {
   "cell_type": "code",
   "execution_count": 1,
   "metadata": {},
   "outputs": [],
   "source": [
    "from tensorflow.keras.datasets import reuters\n",
    "\n",
    "(train_data, train_labels), (test_data, test_labels) = reuters.load_data(num_words=10000)"
   ]
  },
  {
   "cell_type": "markdown",
   "metadata": {},
   "source": [
    "There are 8982 articles for training and 2246 articles for testing. Articles are variable length lists of integers representing indexes in the word dictionary. As with the binary classifier, the lists of integers aren't suitable to pass into the model so need reworked into a different format but this time the labels also need to be reworked."
   ]
  },
  {
   "cell_type": "code",
   "execution_count": 2,
   "metadata": {},
   "outputs": [],
   "source": [
    "import numpy as np\n",
    "\n",
    "def vectorise_sequences(sequences, dimension=10000):\n",
    "    results = np.zeros((len(sequences), dimension))\n",
    "    for i, sequence in enumerate(sequences):\n",
    "        results[i, sequence] = 1\n",
    "    return results\n",
    "\n",
    "x_train = vectorise_sequences(train_data)\n",
    "x_test = vectorise_sequences(test_data)\n",
    "\n",
    "def to_one_hot(labels, dimension=46):\n",
    "    results = np.zeros((len(labels), dimension))\n",
    "    for i, label in enumerate(labels):\n",
    "        results[i, label] = 1\n",
    "    return results\n",
    "\n",
    "y_train = to_one_hot(train_labels)\n",
    "\n",
    "# The Keras library offers a built-in way to create catergorical data\n",
    "from tensorflow.keras.utils import to_categorical\n",
    "\n",
    "y_test = to_categorical(test_labels)"
   ]
  },
  {
   "cell_type": "code",
   "execution_count": 3,
   "metadata": {},
   "outputs": [
    {
     "name": "stdout",
     "output_type": "stream",
     "text": [
      "WARNING:tensorflow:From /usr/local/lib/python3.5/dist-packages/tensorflow/python/ops/resource_variable_ops.py:435: colocate_with (from tensorflow.python.framework.ops) is deprecated and will be removed in a future version.\n",
      "Instructions for updating:\n",
      "Colocations handled automatically by placer.\n",
      "_________________________________________________________________\n",
      "Layer (type)                 Output Shape              Param #   \n",
      "=================================================================\n",
      "dense (Dense)                (None, 64)                640064    \n",
      "_________________________________________________________________\n",
      "dense_1 (Dense)              (None, 64)                4160      \n",
      "_________________________________________________________________\n",
      "dense_2 (Dense)              (None, 46)                2990      \n",
      "=================================================================\n",
      "Total params: 647,214\n",
      "Trainable params: 647,214\n",
      "Non-trainable params: 0\n",
      "_________________________________________________________________\n"
     ]
    }
   ],
   "source": [
    "from tensorflow.keras.models import Sequential\n",
    "from tensorflow.keras.layers import Dense\n",
    "\n",
    "model = Sequential([\n",
    "    Dense(64, activation='relu', input_shape=(10000,)),\n",
    "    Dense(64, activation='relu'),\n",
    "    Dense(46, activation='softmax')\n",
    "])\n",
    "\n",
    "model.compile(optimizer='rmsprop',\n",
    "             loss='categorical_crossentropy',\n",
    "             metrics=['accuracy'])\n",
    "\n",
    "model.summary()"
   ]
  },
  {
   "cell_type": "code",
   "execution_count": null,
   "metadata": {
    "scrolled": false
   },
   "outputs": [
    {
     "name": "stdout",
     "output_type": "stream",
     "text": [
      "Train on 7967 samples, validate on 1015 samples\n",
      "WARNING:tensorflow:From /usr/local/lib/python3.5/dist-packages/tensorflow/python/ops/math_ops.py:3066: to_int32 (from tensorflow.python.ops.math_ops) is deprecated and will be removed in a future version.\n",
      "Instructions for updating:\n",
      "Use tf.cast instead.\n",
      "Epoch 1/20\n",
      "7967/7967 [==============================] - 1s 114us/sample - loss: 2.6484 - acc: 0.5264 - val_loss: 1.7844 - val_acc: 0.6798\n",
      "Epoch 2/20\n",
      "7967/7967 [==============================] - 1s 69us/sample - loss: 1.3972 - acc: 0.7124 - val_loss: 1.3509 - val_acc: 0.7163\n",
      "Epoch 3/20\n",
      "7967/7967 [==============================] - 1s 69us/sample - loss: 1.0141 - acc: 0.7869 - val_loss: 1.1867 - val_acc: 0.7517\n",
      "Epoch 4/20\n",
      "7967/7967 [==============================] - 1s 76us/sample - loss: 0.7904 - acc: 0.8354 - val_loss: 1.0971 - val_acc: 0.7695\n",
      "Epoch 5/20\n",
      "7967/7967 [==============================] - 1s 68us/sample - loss: 0.6242 - acc: 0.8693 - val_loss: 1.0475 - val_acc: 0.7823\n",
      "Epoch 6/20\n",
      "7967/7967 [==============================] - 1s 69us/sample - loss: 0.4975 - acc: 0.8971 - val_loss: 1.0358 - val_acc: 0.7921\n",
      "Epoch 7/20\n",
      "7967/7967 [==============================] - 1s 68us/sample - loss: 0.3965 - acc: 0.9182 - val_loss: 0.9836 - val_acc: 0.8030\n",
      "Epoch 8/20\n",
      "7967/7967 [==============================] - 1s 72us/sample - loss: 0.3258 - acc: 0.9334 - val_loss: 1.0032 - val_acc: 0.8020\n",
      "Epoch 9/20\n",
      "7967/7967 [==============================] - 1s 85us/sample - loss: 0.2681 - acc: 0.9430 - val_loss: 0.9877 - val_acc: 0.8010\n",
      "Epoch 10/20\n",
      "7967/7967 [==============================] - 1s 96us/sample - loss: 0.2248 - acc: 0.9490 - val_loss: 1.0739 - val_acc: 0.7882\n",
      "Epoch 11/20\n",
      "7967/7967 [==============================] - 1s 95us/sample - loss: 0.1937 - acc: 0.9522 - val_loss: 1.1482 - val_acc: 0.7567\n",
      "Epoch 12/20\n",
      "7967/7967 [==============================] - 1s 95us/sample - loss: 0.1761 - acc: 0.9539 - val_loss: 1.1303 - val_acc: 0.7842\n",
      "Epoch 13/20\n",
      "7967/7967 [==============================] - 1s 92us/sample - loss: 0.1586 - acc: 0.9549 - val_loss: 1.0498 - val_acc: 0.8020\n",
      "Epoch 14/20\n",
      "7967/7967 [==============================] - 1s 98us/sample - loss: 0.1430 - acc: 0.9587 - val_loss: 1.1194 - val_acc: 0.7862\n"
     ]
    }
   ],
   "source": [
    "history = model.fit(x_train,\n",
    "                   y_train,\n",
    "                   epochs=20,\n",
    "                   batch_size=512,\n",
    "                   validation_split=0.113)"
   ]
  },
  {
   "cell_type": "code",
   "execution_count": null,
   "metadata": {},
   "outputs": [],
   "source": [
    "import matplotlib.pyplot as plt\n",
    "\n",
    "loss = history.history['loss']\n",
    "val_loss = history.history['val_loss']\n",
    "\n",
    "epochs = range(1, len(loss) + 1)\n",
    "\n",
    "plt.plot(epochs, loss, 'bo', label='Training loss') \n",
    "plt.plot(epochs, val_loss, 'b', label='Validation loss')\n",
    "plt.title('Training and validation loss')\n",
    "plt.xlabel('Epochs')\n",
    "plt.ylabel('Loss')\n",
    "plt.legend()\n",
    "\n",
    "plt.show()"
   ]
  },
  {
   "cell_type": "code",
   "execution_count": null,
   "metadata": {},
   "outputs": [],
   "source": [
    "plt.clf()\n",
    "\n",
    "acc = history.history['acc']\n",
    "val_acc = history.history['val_acc']\n",
    "\n",
    "plt.plot(epochs, acc, 'ro', label='Training acc')\n",
    "plt.plot(epochs, val_acc, 'r', label='Validation acc')\n",
    "plt.title('Training and validation accuracy')\n",
    "plt.xlabel('Epochs')\n",
    "plt.ylabel('Accuracy')\n",
    "plt.legend()\n",
    "\n",
    "plt.show()"
   ]
  },
  {
   "cell_type": "code",
   "execution_count": null,
   "metadata": {},
   "outputs": [],
   "source": [
    "predictions = model.predict(x_test)\n",
    "\n",
    "np.argmax(predictions[3])"
   ]
  }
 ],
 "metadata": {
  "kernelspec": {
   "display_name": "Python 3",
   "language": "python",
   "name": "python3"
  },
  "language_info": {
   "codemirror_mode": {
    "name": "ipython",
    "version": 3
   },
   "file_extension": ".py",
   "mimetype": "text/x-python",
   "name": "python",
   "nbconvert_exporter": "python",
   "pygments_lexer": "ipython3",
   "version": "3.5.2"
  }
 },
 "nbformat": 4,
 "nbformat_minor": 2
}
