{
 "cells": [
  {
   "cell_type": "markdown",
   "metadata": {},
   "source": [
    "Here I have created a binary classifier by following section 3.4 of François Chollets's Deep learning with Python. The model will classify written movie reviews as either having possitive sentiment or negative."
   ]
  },
  {
   "cell_type": "markdown",
   "metadata": {},
   "source": [
    "The dataset is seperated into 25,000 items for training and 25,000 items for test as you never validate a model with data it was trained on. Each item is a variable length list of intergres in the range \\[0, 1000) representing a key in the word dictionary. Here, the size of the word dictionary has been restricted the 10000 word occuring the most in the reviews."
   ]
  },
  {
   "cell_type": "code",
   "execution_count": 1,
   "metadata": {},
   "outputs": [],
   "source": [
    "from tensorflow.keras.datasets import imdb\n",
    "\n",
    "(train_data, train_labels), (test_data, test_labels) = imdb.load_data(num_words=10000)"
   ]
  },
  {
   "cell_type": "markdown",
   "metadata": {},
   "source": [
    "Intergers can't be feed into the model so the data needs to be converted into tensors. The simple way to do this is with 1-hot encoding"
   ]
  },
  {
   "cell_type": "code",
   "execution_count": 2,
   "metadata": {},
   "outputs": [],
   "source": [
    "import numpy as np\n",
    "\n",
    "def vectorise_sequences(sequences, dimension=10000):\n",
    "    results = np.zeros((len(sequences), dimension))\n",
    "    for i, sequence in enumerate(sequences):\n",
    "        results[i, sequence] = 1\n",
    "    return results\n",
    "\n",
    "x_train = vectorise_sequences(train_data)\n",
    "x_test = vectorise_sequences(test_data)\n",
    "\n",
    "y_train = np.asarray(train_labels).astype('float32')\n",
    "y_test = np.asarray(test_labels).astype('float32')"
   ]
  },
  {
   "cell_type": "code",
   "execution_count": 14,
   "metadata": {},
   "outputs": [
    {
     "name": "stdout",
     "output_type": "stream",
     "text": [
      "_________________________________________________________________\n",
      "Layer (type)                 Output Shape              Param #   \n",
      "=================================================================\n",
      "dense_12 (Dense)             (None, 16)                160016    \n",
      "_________________________________________________________________\n",
      "dense_13 (Dense)             (None, 16)                272       \n",
      "_________________________________________________________________\n",
      "dense_14 (Dense)             (None, 1)                 17        \n",
      "=================================================================\n",
      "Total params: 160,305\n",
      "Trainable params: 160,305\n",
      "Non-trainable params: 0\n",
      "_________________________________________________________________\n"
     ]
    }
   ],
   "source": [
    "from tensorflow.keras.models import Sequential\n",
    "from tensorflow.keras.layers import Dense\n",
    "\n",
    "model = Sequential([\n",
    "    Dense(16, activation='relu', input_shape=(10000,)),\n",
    "    Dense(16, activation='relu'),\n",
    "    Dense(1, activation='sigmoid')\n",
    "])\n",
    "\n",
    "model.compile(optimizer='rmsprop',\n",
    "             loss='binary_crossentropy',\n",
    "             metrics=['accuracy'])\n",
    "\n",
    "model.summary()"
   ]
  },
  {
   "cell_type": "code",
   "execution_count": 15,
   "metadata": {},
   "outputs": [
    {
     "name": "stdout",
     "output_type": "stream",
     "text": [
      "Train on 15000 samples, validate on 10000 samples\n",
      "WARNING:tensorflow:From /usr/local/lib/python3.5/dist-packages/tensorflow/python/ops/math_ops.py:3066: to_int32 (from tensorflow.python.ops.math_ops) is deprecated and will be removed in a future version.\n",
      "Instructions for updating:\n",
      "Use tf.cast instead.\n",
      "Epoch 1/20\n",
      "15000/15000 [==============================] - 3s 193us/sample - loss: 0.5115 - acc: 0.7977 - val_loss: 0.3964 - val_acc: 0.8586\n",
      "Epoch 2/20\n",
      "15000/15000 [==============================] - 2s 106us/sample - loss: 0.3072 - acc: 0.9030 - val_loss: 0.3118 - val_acc: 0.8814\n",
      "Epoch 3/20\n",
      "15000/15000 [==============================] - 1s 98us/sample - loss: 0.2298 - acc: 0.9242 - val_loss: 0.2793 - val_acc: 0.8937\n",
      "Epoch 4/20\n",
      "15000/15000 [==============================] - 1s 99us/sample - loss: 0.1837 - acc: 0.9399 - val_loss: 0.2774 - val_acc: 0.8903\n",
      "Epoch 5/20\n",
      "15000/15000 [==============================] - 1s 99us/sample - loss: 0.1478 - acc: 0.9531 - val_loss: 0.2987 - val_acc: 0.8820\n",
      "Epoch 6/20\n",
      "15000/15000 [==============================] - 1s 98us/sample - loss: 0.1242 - acc: 0.9624 - val_loss: 0.2866 - val_acc: 0.8868\n",
      "Epoch 7/20\n",
      "15000/15000 [==============================] - 1s 99us/sample - loss: 0.1041 - acc: 0.9687 - val_loss: 0.3026 - val_acc: 0.8839\n",
      "Epoch 8/20\n",
      "15000/15000 [==============================] - 2s 100us/sample - loss: 0.0845 - acc: 0.9771 - val_loss: 0.3183 - val_acc: 0.8832\n",
      "Epoch 9/20\n",
      "15000/15000 [==============================] - 1s 97us/sample - loss: 0.0700 - acc: 0.9819 - val_loss: 0.3474 - val_acc: 0.8807\n",
      "Epoch 10/20\n",
      "15000/15000 [==============================] - 1s 99us/sample - loss: 0.0582 - acc: 0.9858 - val_loss: 0.3645 - val_acc: 0.8774\n",
      "Epoch 11/20\n",
      "15000/15000 [==============================] - 2s 101us/sample - loss: 0.0458 - acc: 0.9899 - val_loss: 0.4245 - val_acc: 0.8679\n",
      "Epoch 12/20\n",
      "15000/15000 [==============================] - 1s 98us/sample - loss: 0.0375 - acc: 0.9912 - val_loss: 0.4103 - val_acc: 0.8767\n",
      "Epoch 13/20\n",
      "15000/15000 [==============================] - 2s 101us/sample - loss: 0.0302 - acc: 0.9938 - val_loss: 0.4371 - val_acc: 0.8744\n",
      "Epoch 14/20\n",
      "15000/15000 [==============================] - 1s 100us/sample - loss: 0.0245 - acc: 0.9956 - val_loss: 0.4657 - val_acc: 0.8724\n",
      "Epoch 15/20\n",
      "15000/15000 [==============================] - 1s 99us/sample - loss: 0.0198 - acc: 0.9971 - val_loss: 0.4958 - val_acc: 0.8728\n",
      "Epoch 16/20\n",
      "15000/15000 [==============================] - 1s 100us/sample - loss: 0.0157 - acc: 0.9977 - val_loss: 0.5222 - val_acc: 0.8708\n",
      "Epoch 17/20\n",
      "15000/15000 [==============================] - 1s 100us/sample - loss: 0.0093 - acc: 0.9995 - val_loss: 0.5557 - val_acc: 0.8684\n",
      "Epoch 18/20\n",
      "15000/15000 [==============================] - 2s 101us/sample - loss: 0.0117 - acc: 0.9978 - val_loss: 0.5866 - val_acc: 0.8661\n",
      "Epoch 19/20\n",
      "15000/15000 [==============================] - 2s 103us/sample - loss: 0.0051 - acc: 0.9999 - val_loss: 0.6203 - val_acc: 0.8681\n",
      "Epoch 20/20\n",
      "15000/15000 [==============================] - 2s 102us/sample - loss: 0.0048 - acc: 0.9999 - val_loss: 0.6487 - val_acc: 0.8668\n"
     ]
    }
   ],
   "source": [
    "x_val = x_train[:10000]\n",
    "partial_x_train = x_train[10000:]\n",
    "\n",
    "y_val = y_train[:10000]\n",
    "partial_y_train = y_train[10000:]\n",
    "\n",
    "history = model.fit(partial_x_train,\n",
    "                   partial_y_train,\n",
    "                   epochs=20,\n",
    "                   batch_size=512,\n",
    "                   validation_data=(x_val, y_val))"
   ]
  },
  {
   "cell_type": "code",
   "execution_count": 24,
   "metadata": {},
   "outputs": [
    {
     "data": {
      "image/png": "[encoded data removed]",
      "text/plain": [
       "<Figure size 432x288 with 1 Axes>"
      ]
     },
     "metadata": {
      "needs_background": "light"
     },
     "output_type": "display_data"
    }
   ],
   "source": [
    "import matplotlib.pyplot as plt \n",
    "\n",
    "history_dict = history.history \n",
    "loss = history_dict['loss'] \n",
    "val_loss = history_dict['val_loss'] \n",
    "\n",
    "epochs = range(1, len(loss) + 1) \n",
    "\n",
    "plt.plot(epochs, loss, 'bo', label='Training loss') \n",
    "plt.plot(epochs, val_loss, 'b', label='Validation loss') \n",
    "plt.title('Training and validation loss') \n",
    "plt.xlabel('Epochs')\n",
    "plt.ylabel('Loss') \n",
    "plt.legend() \n",
    "plt.show()"
   ]
  },
  {
   "cell_type": "code",
   "execution_count": 21,
   "metadata": {},
   "outputs": [
    {
     "data": {
      "image/png": "[encoded data removed]",
      "text/plain": [
       "<Figure size 432x288 with 1 Axes>"
      ]
     },
     "metadata": {
      "needs_background": "light"
     },
     "output_type": "display_data"
    }
   ],
   "source": [
    "plt.clf() \n",
    "acc = history_dict['acc'] \n",
    "val_acc = history_dict['val_acc'] \n",
    "\n",
    "plt.plot(epochs, acc, 'bo', label='Training acc') \n",
    "plt.plot(epochs, val_acc, 'b', label='Validation acc') \n",
    "plt.title('Training and validation accuracy') \n",
    "plt.xlabel('Epochs') \n",
    "plt.ylabel('Loss') \n",
    "plt.legend() \n",
    "\n",
    "plt.show()"
   ]
  }
 ],
 "metadata": {
  "kernelspec": {
   "display_name": "Python 3",
   "language": "python",
   "name": "python3"
  },
  "language_info": {
   "codemirror_mode": {
    "name": "ipython",
    "version": 3
   },
   "file_extension": ".py",
   "mimetype": "text/x-python",
   "name": "python",
   "nbconvert_exporter": "python",
   "pygments_lexer": "ipython3",
   "version": "3.5.2"
  }
 },
 "nbformat": 4,
 "nbformat_minor": 2
}
