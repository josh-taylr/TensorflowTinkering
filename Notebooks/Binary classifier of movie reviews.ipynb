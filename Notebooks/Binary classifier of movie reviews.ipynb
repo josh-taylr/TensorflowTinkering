{
 "cells": [
  {
   "cell_type": "markdown",
   "metadata": {},
   "source": [
    "Here I have created a binary classifier by following section 3.4 of François Chollets's Deep learning with Python. The model will classify written movie reviews as either having possitive sentiment or negative."
   ]
  },
  {
   "cell_type": "markdown",
   "metadata": {},
   "source": [
    "The dataset is seperated into 25,000 items for training and 25,000 items for test as you never validate a model with data it was trained on. Each item is a variable length list of intergres in the range \\[0, 1000) representing a key in the word dictionary. Here, the size of the word dictionary has been restricted the 10000 word occuring the most in the reviews."
   ]
  },
  {
   "cell_type": "code",
   "execution_count": 1,
   "metadata": {},
   "outputs": [],
   "source": [
    "from tensorflow.keras.datasets import imdb\n",
    "\n",
    "(train_data, train_labels), (test_data, test_labels) = imdb.load_data(num_words=10000)"
   ]
  },
  {
   "cell_type": "markdown",
   "metadata": {},
   "source": [
    "Intergers can't be feed into the model so the data needs to be converted into tensors. The simple way to do this is with 1-hot encoding"
   ]
  },
  {
   "cell_type": "code",
   "execution_count": 2,
   "metadata": {},
   "outputs": [],
   "source": [
    "import numpy as np\n",
    "\n",
    "def vectorise_sequences(sequences, dimension=10000):\n",
    "    results = np.zeros((len(sequences), dimension))\n",
    "    for i, sequence in enumerate(sequences):\n",
    "        results[i, sequence] = 1\n",
    "    return results\n",
    "\n",
    "x_train = vectorise_sequences(train_data)\n",
    "x_test = vectorise_sequences(test_data)\n",
    "\n",
    "y_train = np.asarray(train_labels).astype('float32')\n",
    "y_test = np.asarray(test_labels).astype('float32')"
   ]
  },
  {
   "cell_type": "code",
   "execution_count": 14,
   "metadata": {},
   "outputs": [
    {
     "name": "stdout",
     "output_type": "stream",
     "text": [
      "_________________________________________________________________\n",
      "Layer (type)                 Output Shape              Param #   \n",
      "=================================================================\n",
      "dense_12 (Dense)             (None, 16)                160016    \n",
      "_________________________________________________________________\n",
      "dense_13 (Dense)             (None, 16)                272       \n",
      "_________________________________________________________________\n",
      "dense_14 (Dense)             (None, 1)                 17        \n",
      "=================================================================\n",
      "Total params: 160,305\n",
      "Trainable params: 160,305\n",
      "Non-trainable params: 0\n",
      "_________________________________________________________________\n"
     ]
    }
   ],
   "source": [
    "from tensorflow.keras.models import Sequential\n",
    "from tensorflow.keras.layers import Dense\n",
    "\n",
    "model = Sequential([\n",
    "    Dense(16, activation='relu', input_shape=(10000,)),\n",
    "    Dense(16, activation='relu'),\n",
    "    Dense(1, activation='sigmoid')\n",
    "])\n",
    "\n",
    "model.compile(optimizer='rmsprop',\n",
    "             loss='binary_crossentropy',\n",
    "             metrics=['accuracy'])\n",
    "\n",
    "model.summary()"
   ]
  },
  {
   "cell_type": "code",
   "execution_count": null,
   "metadata": {},
   "outputs": [
    {
     "name": "stdout",
     "output_type": "stream",
     "text": [
      "Train on 15000 samples, validate on 10000 samples\n",
      "WARNING:tensorflow:From /usr/local/lib/python3.5/dist-packages/tensorflow/python/ops/math_ops.py:3066: to_int32 (from tensorflow.python.ops.math_ops) is deprecated and will be removed in a future version.\n",
      "Instructions for updating:\n",
      "Use tf.cast instead.\n",
      "Epoch 1/20\n",
      "15000/15000 [==============================] - 3s 193us/sample - loss: 0.5115 - acc: 0.7977 - val_loss: 0.3964 - val_acc: 0.8586\n",
      "Epoch 2/20\n",
      "15000/15000 [==============================] - 2s 106us/sample - loss: 0.3072 - acc: 0.9030 - val_loss: 0.3118 - val_acc: 0.8814\n",
      "Epoch 3/20\n",
      "15000/15000 [==============================] - 1s 98us/sample - loss: 0.2298 - acc: 0.9242 - val_loss: 0.2793 - val_acc: 0.8937\n",
      "Epoch 4/20\n",
      "15000/15000 [==============================] - 1s 99us/sample - loss: 0.1837 - acc: 0.9399 - val_loss: 0.2774 - val_acc: 0.8903\n",
      "Epoch 5/20\n",
      "15000/15000 [==============================] - 1s 99us/sample - loss: 0.1478 - acc: 0.9531 - val_loss: 0.2987 - val_acc: 0.8820\n",
      "Epoch 6/20\n",
      "15000/15000 [==============================] - 1s 98us/sample - loss: 0.1242 - acc: 0.9624 - val_loss: 0.2866 - val_acc: 0.8868\n",
      "Epoch 7/20\n",
      "15000/15000 [==============================] - 1s 99us/sample - loss: 0.1041 - acc: 0.9687 - val_loss: 0.3026 - val_acc: 0.8839\n",
      "Epoch 8/20\n",
      "15000/15000 [==============================] - 2s 100us/sample - loss: 0.0845 - acc: 0.9771 - val_loss: 0.3183 - val_acc: 0.8832\n",
      "Epoch 9/20\n",
      "15000/15000 [==============================] - 1s 97us/sample - loss: 0.0700 - acc: 0.9819 - val_loss: 0.3474 - val_acc: 0.8807\n",
      "Epoch 10/20\n",
      "15000/15000 [==============================] - 1s 99us/sample - loss: 0.0582 - acc: 0.9858 - val_loss: 0.3645 - val_acc: 0.8774\n",
      "Epoch 11/20\n",
      "15000/15000 [==============================] - 2s 101us/sample - loss: 0.0458 - acc: 0.9899 - val_loss: 0.4245 - val_acc: 0.8679\n",
      "Epoch 12/20\n",
      "15000/15000 [==============================] - 1s 98us/sample - loss: 0.0375 - acc: 0.9912 - val_loss: 0.4103 - val_acc: 0.8767\n",
      "Epoch 13/20\n",
      " 6656/15000 [============>.................] - ETA: 0s - loss: 0.0246 - acc: 0.9965"
     ]
    }
   ],
   "source": [
    "x_val = x_train[:10000]\n",
    "partial_x_train = x_train[10000:]\n",
    "\n",
    "y_val = y_train[:10000]\n",
    "partial_y_train = y_train[10000:]\n",
    "\n",
    "history = model.fit(partial_x_train,\n",
    "                   partial_y_train,\n",
    "                   epochs=20,\n",
    "                   batch_size=512,\n",
    "                   validation_data=(x_val, y_val))"
   ]
  }
 ],
 "metadata": {
  "kernelspec": {
   "display_name": "Python 3",
   "language": "python",
   "name": "python3"
  },
  "language_info": {
   "codemirror_mode": {
    "name": "ipython",
    "version": 3
   },
   "file_extension": ".py",
   "mimetype": "text/x-python",
   "name": "python",
   "nbconvert_exporter": "python",
   "pygments_lexer": "ipython3",
   "version": "3.5.2"
  }
 },
 "nbformat": 4,
 "nbformat_minor": 2
}
